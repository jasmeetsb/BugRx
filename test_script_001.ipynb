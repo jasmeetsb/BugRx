{
 "cells": [
  {
   "cell_type": "markdown",
   "metadata": {},
   "source": [
    "# BugRx: Automated Github issue fixes using AI"
   ]
  },
  {
   "cell_type": "code",
   "execution_count": 60,
   "metadata": {},
   "outputs": [],
   "source": [
    "# Collect dependencies. To be moved to requirements file.\n",
    "#!pip install gitpython\n",
    "#!pip install requests"
   ]
  },
  {
   "cell_type": "code",
   "execution_count": null,
   "metadata": {},
   "outputs": [],
   "source": [
    "import git\n",
    "import os\n",
    "import shutil"
   ]
  },
  {
   "cell_type": "code",
   "execution_count": 54,
   "metadata": {},
   "outputs": [
    {
     "name": "stdout",
     "output_type": "stream",
     "text": [
      "Error: Target path 'sample_data/' not found in the repository.\n",
      "Code from 'https://github.com/cuda-mode/lectures' copied successfully to './my_code_copy'\n"
     ]
    }
   ],
   "source": [
    "# Copy all content from the Github Repository to a local folder\n",
    "\n",
    "def clone_and_copy(repo_url, destination_folder, target_path=None):\n",
    "    \"\"\"Clones a GitHub repository and copies specified files/folders to a local destination.\n",
    "\n",
    "    Args:\n",
    "        repo_url (str): The HTTPS URL of the GitHub repository.\n",
    "        destination_folder (str): The local folder where the code will be copied.\n",
    "        target_path (str, optional): Specific file or folder within the repo to copy.\n",
    "                                     If None, the entire repo is copied. Defaults to None.\n",
    "    \"\"\"\n",
    "\n",
    "    try:\n",
    "        # Create the destination folder if it doesn't exist\n",
    "        os.makedirs(destination_folder, exist_ok=True)\n",
    "\n",
    "        # Clone the repository\n",
    "        repo = git.Repo.clone_from(repo_url, destination_folder)\n",
    "\n",
    "        # If a target path is specified, copy only that path\n",
    "        if target_path:\n",
    "            source_path = os.path.join(destination_folder, target_path)\n",
    "            if os.path.exists(source_path):\n",
    "                shutil.copytree(source_path, destination_folder, dirs_exist_ok=True)\n",
    "            else:\n",
    "                print(f\"Error: Target path '{target_path}' not found in the repository.\")\n",
    "        else:\n",
    "            # Otherwise, copy the entire repository\n",
    "            print(\"Copying entire Github directory\")\n",
    "            shutil.copytree(destination_folder, destination_folder, ignore=shutil.ignore_patterns('.git'))\n",
    "\n",
    "        print(f\"Code from '{repo_url}' copied successfully to '{destination_folder}'\")\n",
    "\n",
    "    except Exception as e:\n",
    "        print(f\"An error occurred: {e}\")\n",
    "\n",
    "\n",
    "if __name__ == \"__main__\":\n",
    "    repo_url = \"https://github.com/jasmeetsb/Google_Generative_AI_Samples\"  # Replace with your actual repo URL\n",
    "\n",
    "    repo_url = \"https://github.com/cuda-mode/lectures\"\n",
    "    \n",
    "    destination_folder = \"./my_code_copy\" \n",
    "    target_path = \"sample_data/\"  # Optional; set to None to copy everything\n",
    "\n",
    "    clone_and_copy(repo_url, destination_folder, target_path)\n"
   ]
  },
  {
   "cell_type": "markdown",
   "metadata": {},
   "source": [
    "## Copy contents of all files into a single text file which will then be passed to the LLM"
   ]
  },
  {
   "cell_type": "code",
   "execution_count": 55,
   "metadata": {},
   "outputs": [
    {
     "name": "stdout",
     "output_type": "stream",
     "text": [
      "Adding file:  ./my_code_copy/utils.py\n",
      "Adding file:  ./my_code_copy/lecture2/rgb_to_grayscale/rgb_to_grayscale.py\n",
      "Adding file:  ./my_code_copy/lecture2/mean_filter/mean_filter.py\n",
      "Adding file:  ./my_code_copy/lecture5/matmul_l5.ipynb\n",
      "Adding file:  ./my_code_copy/lecture4/cuda-mode-session-4.ipynb\n",
      "Adding file:  ./my_code_copy/lecture3/pmpp.ipynb\n",
      "Adding file:  ./my_code_copy/lecture1/load_inline.py\n",
      "Adding file:  ./my_code_copy/lecture1/pytorch_square.py\n",
      "Adding file:  ./my_code_copy/lecture1/numba_square.py\n",
      "Adding file:  ./my_code_copy/lecture1/test.py\n",
      "Adding file:  ./my_code_copy/lecture1/triton_square.py\n",
      "Adding file:  ./my_code_copy/lecture1/pt_profiler.py\n",
      "Adding file:  ./my_code_copy/lecture1/nsys_square.py\n",
      "Adding file:  ./my_code_copy/lecture1/main.py\n",
      "Adding file:  ./my_code_copy/lecture1/hello_load_inline.py\n"
     ]
    }
   ],
   "source": [
    "\n",
    "\n",
    "def pipe_files_to_single_output(folder_path, output_file):\n",
    "    \"\"\"Pipes the content of Python (.py) and text (.txt) files in a folder into a single text file.\n",
    "\n",
    "    Args:\n",
    "        folder_path (str): Path to the folder containing the files.\n",
    "        output_file (str): Name of the output file to create.\n",
    "    \"\"\"\n",
    "\n",
    "    with open(output_file, 'w') as outfile:\n",
    "        for root, _, filenames in os.walk(folder_path):\n",
    "            for filename in filenames:\n",
    "                if filename.endswith('.py') or filename.endswith('.txt') or filename.endswith('.ipynb'):\n",
    "                    filepath = os.path.join(root, filename)\n",
    "                    with open(filepath, 'r') as infile:\n",
    "                        print('Adding file: ',filepath)\n",
    "                        outfile.write('File_Name: ')\n",
    "                        outfile.write(infile.name)\n",
    "                        outfile.write('\\n File_Content: \\n')\n",
    "                        outfile.write(infile.read())\n",
    "                        outfile.write('\\n--- File Separator ---\\n')\n",
    "\n",
    "if __name__ == \"__main__\":\n",
    "    folder_path = \"./my_code_copy/\"  # Replace with the path to your folder\n",
    "    output_file = \"combined_output.txt\"\n",
    "    pipe_files_to_single_output(folder_path, output_file)"
   ]
  },
  {
   "cell_type": "markdown",
   "metadata": {},
   "source": [
    "## Calculate number of characters in combined text file which includes all text and code retrieved from the Github Repository"
   ]
  },
  {
   "cell_type": "code",
   "execution_count": 56,
   "metadata": {},
   "outputs": [
    {
     "name": "stdout",
     "output_type": "stream",
     "text": [
      "The file './combined_output.txt' has 715983 characters.\n",
      "The file './combined_output.txt' has 178995.75 tokens.\n"
     ]
    }
   ],
   "source": [
    "#Calculate number of characters in combined text file which includes all text and code retrieved from the Github Repository\n",
    "def count_characters(file_path):\n",
    "    \"\"\"Calculates the number of characters in a text file.\n",
    "\n",
    "    Args:\n",
    "        file_path (str): The path to the text file.\n",
    "\n",
    "    Returns:\n",
    "        int: The total number of characters in the file.\n",
    "    \"\"\"\n",
    "\n",
    "    total_characters = 0\n",
    "    with open(file_path, 'r') as file:\n",
    "        for line in file:\n",
    "            total_characters += len(line)  \n",
    "\n",
    "    return total_characters\n",
    "\n",
    "file_path = \"./combined_output.txt\"  # Replace with the path to your file\n",
    "character_count = count_characters(file_path)\n",
    "token_count = character_count/4\n",
    "print(f\"The file '{file_path}' has {character_count} characters.\")\n",
    "print(f\"The file '{file_path}' has {token_count} tokens.\")\n"
   ]
  },
  {
   "cell_type": "markdown",
   "metadata": {},
   "source": [
    "\n",
    "## Retrieve Git Repo's issue log\n"
   ]
  },
  {
   "cell_type": "code",
   "execution_count": 82,
   "metadata": {},
   "outputs": [
    {
     "name": "stdout",
     "output_type": "stream",
     "text": [
      "No issues found in commit messages.\n"
     ]
    }
   ],
   "source": [
    "import git\n",
    "\n",
    "def get_issue_log(repo_path):\n",
    "    \"\"\"Retrieves issues mentioned in commit messages of a Git repository.\n",
    "\n",
    "    Args:\n",
    "        repo_path (str): Path to the local Git repository.\n",
    "\n",
    "    Returns:\n",
    "        list: A list of dictionaries, each representing an issue with 'id' and 'message'.\n",
    "    \"\"\"\n",
    "\n",
    "    repo = git.Repo(repo_path)\n",
    "    issue_log = []\n",
    "\n",
    "    for commit in repo.iter_commits():\n",
    "        if \"issue\" in commit.message.lower():  # Adjust keywords as needed\n",
    "            parts = commit.message.split('#')  # Assuming you use \"#123\" format\n",
    "            if len(parts) > 1:\n",
    "                issue_id = parts[1].split()[0]  # Get first element after #\n",
    "                issue_log.append({\n",
    "                    'id': issue_id,\n",
    "                    'message': commit.message\n",
    "                })\n",
    "\n",
    "    return issue_log\n",
    "\n",
    "\n",
    "repo_path = \"./repo_clone\"  # Replace with your repository path\n",
    "issues = get_issue_log(repo_path)\n",
    "\n",
    "if issues:\n",
    "    print(\"Issues Found:\")\n",
    "    for issue in issues:\n",
    "        print(f\"- Issue ID: {issue['id']}\")\n",
    "        print(f\"- Message: {issue['message']}\")\n",
    "else:\n",
    "    print(\"No issues found in commit messages.\")\n"
   ]
  },
  {
   "cell_type": "code",
   "execution_count": 70,
   "metadata": {},
   "outputs": [
    {
     "name": "stdout",
     "output_type": "stream",
     "text": [
      "<bound method Response.json of <Response [200]>>\n"
     ]
    },
    {
     "ename": "TypeError",
     "evalue": "'method' object is not iterable",
     "output_type": "error",
     "traceback": [
      "\u001b[0;31m---------------------------------------------------------------------------\u001b[0m",
      "\u001b[0;31mTypeError\u001b[0m                                 Traceback (most recent call last)",
      "\u001b[0;32m<ipython-input-70-19b370a2ff26>\u001b[0m in \u001b[0;36m<module>\u001b[0;34m\u001b[0m\n\u001b[1;32m     64\u001b[0m \u001b[0;34m\u001b[0m\u001b[0m\n\u001b[1;32m     65\u001b[0m \u001b[0;31m#repo_url = \"https://github.com/jasmeetsb/Google_Generative_AI_Samples/\"\u001b[0m\u001b[0;34m\u001b[0m\u001b[0;34m\u001b[0m\u001b[0;34m\u001b[0m\u001b[0m\n\u001b[0;32m---> 66\u001b[0;31m \u001b[0missues\u001b[0m \u001b[0;34m=\u001b[0m \u001b[0mget_issue_log_from_github\u001b[0m\u001b[0;34m(\u001b[0m\u001b[0mrepo_url\u001b[0m\u001b[0;34m)\u001b[0m\u001b[0;34m\u001b[0m\u001b[0;34m\u001b[0m\u001b[0m\n\u001b[0m\u001b[1;32m     67\u001b[0m \u001b[0;34m\u001b[0m\u001b[0m\n\u001b[1;32m     68\u001b[0m \u001b[0;31m# ... (Your issue printing logic)\u001b[0m\u001b[0;34m\u001b[0m\u001b[0;34m\u001b[0m\u001b[0;34m\u001b[0m\u001b[0m\n",
      "\u001b[0;32m<ipython-input-70-19b370a2ff26>\u001b[0m in \u001b[0;36mget_issue_log_from_github\u001b[0;34m(repo_url)\u001b[0m\n\u001b[1;32m     31\u001b[0m             \u001b[0mdata\u001b[0m \u001b[0;34m=\u001b[0m \u001b[0mresponse\u001b[0m\u001b[0;34m.\u001b[0m\u001b[0mjson\u001b[0m\u001b[0;34m\u001b[0m\u001b[0;34m\u001b[0m\u001b[0m\n\u001b[1;32m     32\u001b[0m             \u001b[0;31m#data = response.json()\u001b[0m\u001b[0;34m\u001b[0m\u001b[0;34m\u001b[0m\u001b[0;34m\u001b[0m\u001b[0m\n\u001b[0;32m---> 33\u001b[0;31m             \u001b[0;32mfor\u001b[0m \u001b[0mcommit\u001b[0m \u001b[0;32min\u001b[0m \u001b[0mdata\u001b[0m\u001b[0;34m:\u001b[0m\u001b[0;34m\u001b[0m\u001b[0;34m\u001b[0m\u001b[0m\n\u001b[0m\u001b[1;32m     34\u001b[0m                 \u001b[0;32mif\u001b[0m \u001b[0;34m\"issue\"\u001b[0m \u001b[0;32min\u001b[0m \u001b[0mcommit\u001b[0m\u001b[0;34m[\u001b[0m\u001b[0;34m'commit'\u001b[0m\u001b[0;34m]\u001b[0m\u001b[0;34m[\u001b[0m\u001b[0;34m'message'\u001b[0m\u001b[0;34m]\u001b[0m\u001b[0;34m.\u001b[0m\u001b[0mlower\u001b[0m\u001b[0;34m(\u001b[0m\u001b[0;34m)\u001b[0m\u001b[0;34m:\u001b[0m\u001b[0;34m\u001b[0m\u001b[0;34m\u001b[0m\u001b[0m\n\u001b[1;32m     35\u001b[0m                     \u001b[0;31m# Extract issue details (you might need to adjust based on the format)\u001b[0m\u001b[0;34m\u001b[0m\u001b[0;34m\u001b[0m\u001b[0;34m\u001b[0m\u001b[0m\n",
      "\u001b[0;31mTypeError\u001b[0m: 'method' object is not iterable"
     ]
    }
   ],
   "source": [
    "import git\n",
    "import requests\n",
    "\n",
    "def get_issue_log_from_github(repo_url):\n",
    "    \"\"\"Retrieves issues mentioned in commit messages of a GitHub repository.\n",
    "\n",
    "    Args:\n",
    "        repo_url (str): URL of the GitHub repository (e.g., 'https://github.com/user/repo')\n",
    "\n",
    "    Returns:\n",
    "        list: A list of dictionaries, each representing an issue with 'id', 'title', \n",
    "              'url'  and 'message'.\n",
    "    \"\"\"\n",
    "\n",
    "    owner, repo_name = repo_url.split(\"/\")[-2:]  # Extract owner and repo name\n",
    "\n",
    "    # GitHub API endpoint for commits\n",
    "    api_url = f\"https://api.github.com/repos/{owner}/{repo_name}/commits\"\n",
    "\n",
    "    api_url = repo_url\n",
    "\n",
    "    issue_log = []\n",
    "    has_more_pages = True\n",
    "    page_num = 1\n",
    "\n",
    "    while has_more_pages:\n",
    "        response = requests.get(api_url, params={'page': page_num})\n",
    "\n",
    "        if response.status_code == 200:\n",
    "            print(response.json)\n",
    "            data = response.json\n",
    "            #data = response.json()\n",
    "            for commit in data:\n",
    "                if \"issue\" in commit['commit']['message'].lower():\n",
    "                    # Extract issue details (you might need to adjust based on the format)\n",
    "                    parts = commit['commit']['message'].split('#')\n",
    "                    if len(parts) > 1:\n",
    "                        issue_id = parts[1].split()[0]\n",
    "                        issue_title, issue_url = _get_issue_details(owner, repo_name, issue_id)\n",
    "                        issue_log.append({\n",
    "                            'id': issue_id,\n",
    "                            'title': issue_title,\n",
    "                            'url': issue_url,\n",
    "                            'message': commit['commit']['message']\n",
    "                        })\n",
    "            has_more_pages = 'next' in response.links  # Check for pagination\n",
    "            page_num += 1\n",
    "        else:\n",
    "            print(f\"Error fetching commits: {response.status_code}\")\n",
    "            break\n",
    "\n",
    "    return issue_log\n",
    "\n",
    "def _get_issue_details(owner, repo_name, issue_id):\n",
    "    \"\"\"Fetches the title and URL of a GitHub issue.\"\"\"\n",
    "    api_url = f\"https://api.github.com/repos/{owner}/{repo_name}/issues/{issue_id}\"\n",
    "    response = requests.get(api_url)\n",
    "    if response.status_code == 200:\n",
    "        print(response)\n",
    "        data = response.json()\n",
    "        return data['title'], data['html_url']\n",
    "    else:\n",
    "        return \"Issue Not Found\", \"\"  # Handle not found\n",
    "\n",
    "#repo_url = \"https://github.com/jasmeetsb/Google_Generative_AI_Samples/\" \n",
    "issues = get_issue_log_from_github(repo_url)\n",
    "\n",
    "# ... (Your issue printing logic) \n"
   ]
  },
  {
   "cell_type": "code",
   "execution_count": 80,
   "metadata": {},
   "outputs": [
    {
     "name": "stdout",
     "output_type": "stream",
     "text": [
      "Error fetching commits: 403\n",
      "No issues found in commit messages.\n"
     ]
    }
   ],
   "source": [
    "import git\n",
    "import requests\n",
    "import os\n",
    "\n",
    "def get_issue_log_from_github(repo_url, github_token=None):\n",
    "    \"\"\"Retrieves issues mentioned in commit messages of a GitHub repository.\n",
    "\n",
    "    Args:\n",
    "        repo_url (str): URL of the GitHub repository (e.g., 'https://github.com/user/repo')\n",
    "        github_token (str, optional): Personal access token to increase API rate limits.\n",
    "\n",
    "    Returns:\n",
    "        list: A list of dictionaries, each representing an issue with detailed information.\n",
    "    \"\"\"\n",
    "\n",
    "    owner, repo_name = repo_url.split(\"/\")[-2:]\n",
    "    api_url = f\"https://api.github.com/repos/{owner}/{repo_name}/commits\"\n",
    "\n",
    "\n",
    "\n",
    "    headers = {\"Authorization\": f\"token {github_token}\"} if github_token else None\n",
    "    issue_log = []\n",
    "    page_num = 1\n",
    "\n",
    "    while True:\n",
    "        response = requests.get(api_url, headers=headers, params={'page': page_num})\n",
    "\n",
    "        if response.status_code == 200:\n",
    "            data = response.json()\n",
    "\n",
    "            for commit in data:\n",
    "                issue_refs = _extract_issue_refs(commit['commit']['message'])\n",
    "                if issue_refs:\n",
    "                    for issue_id in issue_refs:\n",
    "                        issue_details = _get_issue_details(owner, repo_name, issue_id, github_token)\n",
    "                        if issue_details:\n",
    "                            issue_log.append({\n",
    "                                'commit_sha': commit['sha'],\n",
    "                                'commit_message': commit['commit']['message'],\n",
    "                                **issue_details  # Unpack title, url, state, etc.\n",
    "                            })\n",
    "            # Check for pagination\n",
    "            if 'next' in response.links:\n",
    "                page_num += 1\n",
    "            else:\n",
    "                break\n",
    "\n",
    "        else:\n",
    "            print(f\"Error fetching commits: {response.status_code}\")\n",
    "            break\n",
    "\n",
    "    return issue_log\n",
    "\n",
    "def _extract_issue_refs(message):\n",
    "    \"\"\"Extracts potential issue references (e.g., #123) from a commit message.\"\"\"\n",
    "    # Customize your issue reference pattern as needed\n",
    "    import re\n",
    "    return re.findall(r'#(\\d+)', message)\n",
    "\n",
    "def _get_issue_details(owner, repo_name, issue_id, github_token=None):\n",
    "    \"\"\"Fetches details of a GitHub issue.\"\"\"\n",
    "    api_url = f\"https://api.github.com/repos/{owner}/{repo_name}/issues/{issue_id}\"\n",
    "    headers = {\"Authorization\": f\"token {github_token}\"} if github_token else None\n",
    "    response = requests.get(api_url, headers=headers)\n",
    "\n",
    "    if response.status_code == 200:\n",
    "        data = response.json()\n",
    "        return {\n",
    "            'id': issue_id,\n",
    "            'title': data['title'],\n",
    "            'url': data['html_url'],\n",
    "            'state': data['state'] \n",
    "        }\n",
    "    else:\n",
    "        return None  # Return None for non-existing issues\n",
    "\n",
    "if __name__ == \"__main__\":\n",
    "    repo_url = \"https://github.com/python/cpython\"  # Example repository\n",
    "\n",
    "    #repo_url = \"https://github.com/cuda-mode/lectures\"\n",
    "    github_token = os.getenv('GITHUB_TOKEN')  # Optional: load token from environment variable\n",
    "\n",
    "    issues = get_issue_log_from_github(repo_url, github_token)\n",
    "    if issues:\n",
    "        print(\"Issues Found:\")\n",
    "        for issue in issues:\n",
    "            print(f\"- Issue ID: {issue['id']} ({issue['state']})\")\n",
    "            print(f\"- Title: {issue['title']}\")\n",
    "            print(f\"- URL: {issue['url']}\")\n",
    "            print(f\"- Commit: {issue['commit_sha'][:7]} - {issue['commit_message']}\\n\") \n",
    "    else:\n",
    "        print(\"No issues found in commit messages.\")\n"
   ]
  },
  {
   "cell_type": "code",
   "execution_count": 94,
   "metadata": {},
   "outputs": [],
   "source": [
    "#\n",
    "from git import Repo\n",
    "\n",
    "local_dir = 'repo_clone'\n",
    "repo_url = \"https://github.com/gitpython-developers/QuickStartTutorialFiles.git\"\n",
    "repo_url =  \"https://github.com/langchain-ai/langchain-benchmarks.git\"\n",
    "\n",
    "repo = Repo.clone_from(repo_url, local_dir)"
   ]
  },
  {
   "cell_type": "code",
   "execution_count": 97,
   "metadata": {},
   "outputs": [
    {
     "name": "stdout",
     "output_type": "stream",
     "text": [
      "No issues found in commit messages.\n"
     ]
    }
   ],
   "source": [
    "repo_path = \"repo_clone/\"  # Replace with your repository path\n",
    "issues = get_issue_log(repo_path)\n",
    "\n",
    "if issues:\n",
    "    print(\"Issues Found:\")\n",
    "    for issue in issues:\n",
    "        print(f\"- Issue ID: {issue['id']}\")\n",
    "        print(f\"- Message: {issue['message']}\")\n",
    "else:\n",
    "    print(\"No issues found in commit messages.\")"
   ]
  },
  {
   "cell_type": "code",
   "execution_count": null,
   "metadata": {},
   "outputs": [],
   "source": []
  },
  {
   "cell_type": "code",
   "execution_count": null,
   "metadata": {},
   "outputs": [],
   "source": []
  }
 ],
 "metadata": {
  "kernelspec": {
   "display_name": "base",
   "language": "python",
   "name": "python3"
  },
  "language_info": {
   "codemirror_mode": {
    "name": "ipython",
    "version": 3
   },
   "file_extension": ".py",
   "mimetype": "text/x-python",
   "name": "python",
   "nbconvert_exporter": "python",
   "pygments_lexer": "ipython3",
   "version": "3.8.5"
  }
 },
 "nbformat": 4,
 "nbformat_minor": 2
}
